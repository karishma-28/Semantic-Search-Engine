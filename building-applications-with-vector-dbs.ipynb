{
 "cells": [
  {
   "cell_type": "code",
   "execution_count": 1,
   "metadata": {},
   "outputs": [],
   "source": [
    "import warnings\n",
    "warnings.filterwarnings('ignore')"
   ]
  },
  {
   "cell_type": "code",
   "execution_count": 2,
   "metadata": {
    "execution": {
     "iopub.execute_input": "2024-12-30T19:12:14.463007Z",
     "iopub.status.busy": "2024-12-30T19:12:14.462617Z",
     "iopub.status.idle": "2024-12-30T19:12:18.632977Z",
     "shell.execute_reply": "2024-12-30T19:12:18.632174Z",
     "shell.execute_reply.started": "2024-12-30T19:12:14.462970Z"
    }
   },
   "outputs": [],
   "source": [
    "#!pip install sentence-transformers pinecone"
   ]
  },
  {
   "cell_type": "code",
   "execution_count": 3,
   "metadata": {},
   "outputs": [],
   "source": [
    "#!pip install datasets"
   ]
  },
  {
   "cell_type": "code",
   "execution_count": 4,
   "metadata": {},
   "outputs": [],
   "source": [
    "from datasets import load_dataset\n",
    "from sentence_transformers import SentenceTransformer\n",
    "from pinecone import Pinecone, ServerlessSpec\n",
    "import os\n",
    "import time\n",
    "import torch\n",
    "from tqdm.auto import tqdm\n",
    "from DLAIUtils import Utils\n",
    "import DLAIUtils"
   ]
  },
  {
   "cell_type": "code",
   "execution_count": 5,
   "metadata": {},
   "outputs": [],
   "source": [
    "dataset = load_dataset('quora', split='train[240000:245000]')\n"
   ]
  },
  {
   "cell_type": "code",
   "execution_count": 6,
   "metadata": {},
   "outputs": [
    {
     "data": {
      "text/plain": [
       "{'questions': [{'id': [207550, 351729],\n",
       "   'text': ['What is the truth of life?', \"What's the evil truth of life?\"]},\n",
       "  {'id': [33183, 351730],\n",
       "   'text': ['Which is the best smartphone under 20K in India?',\n",
       "    'Which is the best smartphone with in 20k in India?']},\n",
       "  {'id': [351731, 351732],\n",
       "   'text': ['Steps taken by Canadian government to improve literacy rate?',\n",
       "    'Can I send homemade herbal hair oil from India to US via postal or private courier services?']},\n",
       "  {'id': [37799, 94186],\n",
       "   'text': ['What is a good way to lose 30 pounds in 2 months?',\n",
       "    'What can I do to lose 30 pounds in 2 months?']},\n",
       "  {'id': [351733, 351734],\n",
       "   'text': ['Which of the following most accurately describes the translation of the graph y = (x+3)^2 -2 to the graph of y = (x -2)^2 +2?',\n",
       "    'How do you graph x + 2y = -2?']}],\n",
       " 'is_duplicate': [False, True, False, True, False]}"
      ]
     },
     "execution_count": 6,
     "metadata": {},
     "output_type": "execute_result"
    }
   ],
   "source": [
    "dataset[:5]"
   ]
  },
  {
   "cell_type": "code",
   "execution_count": 7,
   "metadata": {},
   "outputs": [
    {
     "name": "stdout",
     "output_type": "stream",
     "text": [
      "What does a scientist do?\n",
      "What should you do if you tell your girlfriend you love her and she's not ready to say it back?\n",
      "What's the best restaurant in Paris?\n",
      "Can host be shown as pregnant in the westworld?\n",
      "Where can you find the best hotels in Nainital?\n",
      "Should I learn TypeScript or Elm as an alternative to JavaScript for large scale frontend development?\n",
      "Is it normal to be asked only math problems in a front-end developer interview?\n",
      "What are some baby shower games that are actually fun?\n",
      "How did Argentina gain its independence?\n",
      "I would like to become a lead developer for Google or another large company in the future, what steps must I take with having no current experience?\n",
      "--------------------------------------------------\n",
      "Number of questions: 9814\n"
     ]
    }
   ],
   "source": [
    "questions = []\n",
    "for record in dataset['questions']:\n",
    "    questions.extend(record['text'])\n",
    "questions = list(set(questions))\n",
    "print('\\n'.join(questions[:10]))\n",
    "print('-'*50)\n",
    "print('Number of questions:', len(questions))\n"
   ]
  },
  {
   "cell_type": "markdown",
   "metadata": {},
   "source": [
    "### Check cuda and Setup the model\n",
    "\n",
    "**Note**: \"Checking cuda\" refers to checking if you have access to GPUs (faster compute). In this course, we are using CPUs. So, you might notice some code cells taking a little longer to run.\n",
    "\n",
    "We are using *all-MiniLM-L6-v2* sentence-transformers model that maps sentences to a 384 dimensional dense vector space."
   ]
  },
  {
   "cell_type": "code",
   "execution_count": 8,
   "metadata": {},
   "outputs": [
    {
     "name": "stdout",
     "output_type": "stream",
     "text": [
      "No GPU available, using the CPU instead.\n"
     ]
    }
   ],
   "source": [
    "device = 'cuda' if torch.cuda.is_available() else 'cpu'\n",
    "if device != 'cuda':\n",
    "    print('No GPU available, using the CPU instead.')\n",
    "\n",
    "model = SentenceTransformer('all-MiniLM-L6-v2', device=device)\n"
   ]
  },
  {
   "cell_type": "code",
   "execution_count": 9,
   "metadata": {},
   "outputs": [
    {
     "data": {
      "text/plain": [
       "(384,)"
      ]
     },
     "execution_count": 9,
     "metadata": {},
     "output_type": "execute_result"
    }
   ],
   "source": [
    "query = 'which city is the most populated in the world?'\n",
    "xq = model.encode(query)\n",
    "xq.shape"
   ]
  },
  {
   "cell_type": "markdown",
   "metadata": {},
   "source": [
    "### Setup Pinecone"
   ]
  },
  {
   "cell_type": "code",
   "execution_count": 10,
   "metadata": {},
   "outputs": [
    {
     "name": "stdout",
     "output_type": "stream",
     "text": [
      "Deleted existing index: quora-index\n",
      "Creating index: quora-index\n",
      "Created index: quora-index\n"
     ]
    }
   ],
   "source": [
    "import importlib\n",
    "import DLAIUtils\n",
    "importlib.reload(DLAIUtils)\n",
    "\n",
    "from DLAIUtils import Utils\n",
    "\n",
    "utils = Utils()\n",
    "PINECONE_API_KEY = utils.get_pinecone_api_key()\n",
    "pinecone = Pinecone(api_key=PINECONE_API_KEY)\n",
    "\n",
    "INDEX_NAME = utils.create_dlai_index_name(pinecone, 'quora-index')\n"
   ]
  },
  {
   "cell_type": "code",
   "execution_count": 11,
   "metadata": {},
   "outputs": [
    {
     "name": "stdout",
     "output_type": "stream",
     "text": [
      "<pinecone.data.index.Index object at 0x7f90c00b14f0>\n"
     ]
    }
   ],
   "source": [
    "# Check if the index exists and delete it\n",
    "\n",
    "# if INDEX_NAME in [index.name for index in pinecone.list_indexes()]:\n",
    "#     pinecone.delete_index(INDEX_NAME)\n",
    "# print(INDEX_NAME)\n",
    "\n",
    "# # Create a Pinecone index with the name INDEX_NAME\n",
    "# pinecone.create_index(name=INDEX_NAME,\n",
    "#                       dimension=model.get_sentence_embedding_dimension(),\n",
    "#                       metric='cosine',\n",
    "#                       spec=ServerlessSpec(cloud='aws', region='us-east-1'))\n",
    "\n",
    "index = pinecone.Index(INDEX_NAME) # Load the index\n",
    "print(index)"
   ]
  },
  {
   "cell_type": "code",
   "execution_count": 12,
   "metadata": {},
   "outputs": [
    {
     "data": {
      "text/plain": [
       "{'dimension': 384,\n",
       " 'index_fullness': 0.0,\n",
       " 'namespaces': {},\n",
       " 'total_vector_count': 0}"
      ]
     },
     "execution_count": 12,
     "metadata": {},
     "output_type": "execute_result"
    }
   ],
   "source": [
    "index.describe_index_stats()"
   ]
  },
  {
   "cell_type": "markdown",
   "metadata": {},
   "source": [
    "### Create Embeddings and Upsert to Pinecone"
   ]
  },
  {
   "cell_type": "code",
   "execution_count": 13,
   "metadata": {},
   "outputs": [
    {
     "name": "stdout",
     "output_type": "stream",
     "text": [
      "Number of questions: 1000\n"
     ]
    }
   ],
   "source": [
    "#len(questions) # 9814\n",
    "batch_size = 200\n",
    "vector_limit = 1000\n",
    "\n",
    "questions = questions[:vector_limit]\n",
    "print('Number of questions:', len(questions))"
   ]
  },
  {
   "cell_type": "code",
   "execution_count": 14,
   "metadata": {},
   "outputs": [
    {
     "data": {
      "application/vnd.jupyter.widget-view+json": {
       "model_id": "9d19f914b18e48878bddc5e9db6ebf62",
       "version_major": 2,
       "version_minor": 0
      },
      "text/plain": [
       "  0%|          | 0/5 [00:00<?, ?it/s]"
      ]
     },
     "metadata": {},
     "output_type": "display_data"
    }
   ],
   "source": [
    "import json\n",
    "\n",
    "for i in tqdm(range(0, len(questions), batch_size)): # 0, 200, 400, 600, 800\n",
    "    # find end of batch\n",
    "    i_end = min(i + batch_size, len(questions))\n",
    "    # create IDs for the batch\n",
    "    ids = [str(x) for x in range(i, i_end)] # 0-199, 200-399, 400-599, 600-799, 800-999\n",
    "    # create metadata for the batch\n",
    "    metadatas = [{'text': text} for text in questions[i:i_end]]\n",
    "    # create embeddings for the batch\n",
    "    embeddings = model.encode(questions[i:i_end])\n",
    "    # insert the batch into the index\n",
    "    records = zip(ids, embeddings, metadatas)\n",
    "    index.upsert(vectors=records)\n",
    "\n"
   ]
  },
  {
   "cell_type": "code",
   "execution_count": 15,
   "metadata": {},
   "outputs": [
    {
     "data": {
      "text/plain": [
       "{'dimension': 384,\n",
       " 'index_fullness': 0.0,\n",
       " 'namespaces': {'': {'vector_count': 1000}},\n",
       " 'total_vector_count': 1000}"
      ]
     },
     "execution_count": 15,
     "metadata": {},
     "output_type": "execute_result"
    }
   ],
   "source": [
    "index.describe_index_stats()"
   ]
  },
  {
   "cell_type": "markdown",
   "metadata": {},
   "source": [
    "### Run Your Query"
   ]
  },
  {
   "cell_type": "code",
   "execution_count": 16,
   "metadata": {},
   "outputs": [],
   "source": [
    "def run_query(query, top_k=5):\n",
    "    embedding = model.encode(query).tolist()\n",
    "    results = index.query(vector=embedding,\n",
    "                          top_k=top_k,\n",
    "                          include_metadata=True,\n",
    "                          include_vector=False)\n",
    "    \n",
    "    for result in results['matches']:\n",
    "        print(f\"{ round(result['score'],2)}  {result['metadata']['text']}\")"
   ]
  },
  {
   "cell_type": "code",
   "execution_count": 17,
   "metadata": {},
   "outputs": [
    {
     "name": "stdout",
     "output_type": "stream",
     "text": [
      "0.68  I want to make Hacks, bots, cheats for games. I know 0 about programming. What programming language should I learn as a beginning?\n",
      "0.6  What is the best way to learn a computer Language?\n",
      "0.45  What is the difference between scripting and programming?\n",
      "0.41  What is the recommended book to learn python for beginner?\n",
      "0.41  Which book to buy to learn java?\n"
     ]
    }
   ],
   "source": [
    "run_query('what is a good programming language?')"
   ]
  },
  {
   "cell_type": "code",
   "execution_count": 18,
   "metadata": {},
   "outputs": [
    {
     "name": "stdout",
     "output_type": "stream",
     "text": [
      "0.35  What is the \"shake n' bake\" meth recipe?\n",
      "0.33  What are some good mixes for Bailey's Irish Cream?\n",
      "0.31  How do you draw cartoons?\n",
      "0.31  How do you get inspiration to write a poem?\n",
      "0.3  What is the best biryani masala powder?\n"
     ]
    }
   ],
   "source": [
    "query = 'how do i make chocolate cake?'\n",
    "run_query(query)"
   ]
  }
 ],
 "metadata": {
  "kaggle": {
   "accelerator": "nvidiaTeslaT4",
   "dataSources": [],
   "dockerImageVersionId": 30823,
   "isGpuEnabled": true,
   "isInternetEnabled": true,
   "language": "python",
   "sourceType": "notebook"
  },
  "kernelspec": {
   "display_name": "d2l",
   "language": "python",
   "name": "python3"
  },
  "language_info": {
   "codemirror_mode": {
    "name": "ipython",
    "version": 3
   },
   "file_extension": ".py",
   "mimetype": "text/x-python",
   "name": "python",
   "nbconvert_exporter": "python",
   "pygments_lexer": "ipython3",
   "version": "3.9.17"
  }
 },
 "nbformat": 4,
 "nbformat_minor": 4
}
